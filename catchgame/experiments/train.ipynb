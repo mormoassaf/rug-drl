{
 "cells": [
  {
   "cell_type": "code",
   "execution_count": 2,
   "metadata": {},
   "outputs": [
    {
     "name": "stdout",
     "output_type": "stream",
     "text": [
      "The autoreload extension is already loaded. To reload it, use:\n",
      "  %reload_ext autoreload\n",
      "already in directory\n",
      "cuda is available\n"
     ]
    }
   ],
   "source": [
    "%load_ext autoreload\n",
    "%autoreload 2\n",
    "\n",
    "import torch\n",
    "import torch.nn as nn\n",
    "import torch.optim as optim\n",
    "import torch.nn.functional as F\n",
    "import torchvision.transforms as T\n",
    "import numpy as np\n",
    "import random\n",
    "import matplotlib.pyplot as plt\n",
    "import os\n",
    "\n",
    "try:\n",
    "    os.chdir(os.path.join(os.getcwd(), '../../catchgame/'))\n",
    "except:\n",
    "    print(\"already in directory\")\n",
    "\n",
    "device = torch.device(\"cuda\" if torch.cuda.is_available() else \"cpu\")\n",
    "print(f\"{device} is available\")"
   ]
  },
  {
   "cell_type": "code",
   "execution_count": 23,
   "metadata": {},
   "outputs": [
    {
     "ename": "TypeError",
     "evalue": "__init__() missing 1 required positional argument: 'stride'",
     "output_type": "error",
     "traceback": [
      "\u001b[1;31m---------------------------------------------------------------------------\u001b[0m",
      "\u001b[1;31mTypeError\u001b[0m                                 Traceback (most recent call last)",
      "Cell \u001b[1;32mIn[23], line 15\u001b[0m\n\u001b[0;32m     12\u001b[0m target_update \u001b[39m=\u001b[39m \u001b[39m1000\u001b[39m\n\u001b[0;32m     14\u001b[0m \u001b[39m# value based network\u001b[39;00m\n\u001b[1;32m---> 15\u001b[0m qnet \u001b[39m=\u001b[39m QNetworkConv(\u001b[39m1\u001b[39;49m, spatial_size, n_actions)\u001b[39m.\u001b[39mto(device)\n\u001b[0;32m     17\u001b[0m qnet(torch\u001b[39m.\u001b[39mrandn(batch_size, \u001b[39m1\u001b[39m, \u001b[39m*\u001b[39mspatial_size, device\u001b[39m=\u001b[39mdevice))\u001b[39m.\u001b[39mshape\n",
      "File \u001b[1;32mc:\\Users\\mo\\Documents\\Organisations\\RUG\\rug-drl\\catchgame\\modules\\dqn\\network.py:54\u001b[0m, in \u001b[0;36mQNetworkConv.__init__\u001b[1;34m(self, in_channels, spatial_size, output_size)\u001b[0m\n\u001b[0;32m     52\u001b[0m \u001b[39mself\u001b[39m\u001b[39m.\u001b[39mconv1 \u001b[39m=\u001b[39m DQNConvBlock(\u001b[39mself\u001b[39m\u001b[39m.\u001b[39min_channels, \u001b[39m32\u001b[39m, kernel_size\u001b[39m=\u001b[39m\u001b[39m8\u001b[39m, stride\u001b[39m=\u001b[39m\u001b[39m4\u001b[39m)\n\u001b[0;32m     53\u001b[0m \u001b[39mself\u001b[39m\u001b[39m.\u001b[39mconv2 \u001b[39m=\u001b[39m DQNConvBlock(\u001b[39m32\u001b[39m, \u001b[39m64\u001b[39m, kernel_size\u001b[39m=\u001b[39m\u001b[39m4\u001b[39m, stride\u001b[39m=\u001b[39m\u001b[39m2\u001b[39m)\n\u001b[1;32m---> 54\u001b[0m \u001b[39mself\u001b[39m\u001b[39m.\u001b[39mconv3 \u001b[39m=\u001b[39m DQNConvBlock(\u001b[39m64\u001b[39;49m, \u001b[39m64\u001b[39;49m, kernel_size\u001b[39m=\u001b[39;49m\u001b[39m3\u001b[39;49m)\n\u001b[0;32m     56\u001b[0m conv_out_size \u001b[39m=\u001b[39m \u001b[39mself\u001b[39m\u001b[39m.\u001b[39m_get_conv_out_size()\n\u001b[0;32m     57\u001b[0m \u001b[39m# output should be (batch, output_size)\u001b[39;00m\n",
      "\u001b[1;31mTypeError\u001b[0m: __init__() missing 1 required positional argument: 'stride'"
     ]
    }
   ],
   "source": [
    "from modules.dqn.network import QNetworkConv\n",
    "from world import CatchEnv\n",
    "\n",
    "spatial_size = (84, 84)\n",
    "n_actions = 3\n",
    "n_episodes = 1000\n",
    "batch_size = 32\n",
    "gamma = 0.99\n",
    "eps_start = 1.0\n",
    "eps_end = 0.1\n",
    "eps_decay = 100000\n",
    "target_update = 1000\n",
    "\n",
    "# value based network\n",
    "qnet = QNetworkConv(1, spatial_size, n_actions).to(device)\n",
    "\n",
    "qnet(torch.randn(batch_size, 1, *spatial_size, device=device)).shape\n"
   ]
  }
 ],
 "metadata": {
  "kernelspec": {
   "display_name": "ml_env",
   "language": "python",
   "name": "python3"
  },
  "language_info": {
   "codemirror_mode": {
    "name": "ipython",
    "version": 3
   },
   "file_extension": ".py",
   "mimetype": "text/x-python",
   "name": "python",
   "nbconvert_exporter": "python",
   "pygments_lexer": "ipython3",
   "version": "3.9.16"
  },
  "orig_nbformat": 4
 },
 "nbformat": 4,
 "nbformat_minor": 2
}
